{
 "cells": [
  {
   "cell_type": "code",
   "execution_count": 3,
   "metadata": {},
   "outputs": [],
   "source": [
    "from hubble_focus import parameters"
   ]
  },
  {
   "cell_type": "markdown",
   "metadata": {},
   "source": [
    "### Read in and inspect the default parameters for ACS WFC1"
   ]
  },
  {
   "cell_type": "code",
   "execution_count": 4,
   "metadata": {},
   "outputs": [
    {
     "name": "stdout",
     "output_type": "stream",
     "text": [
      "      Array dimensions      512\n",
      "            Wavelength   0.5020\n",
      "        Fitting method        1\n",
      "  Merit function power  2.00000\n",
      "    Merit wing damping  0.00500\n",
      "           Camera mode    ACSWFC1\n",
      "          Zernike type OBSCURED\n",
      "Y                   Focus (microns)       0.0000\n",
      "Y                  X-coma (microns)       0.0000\n",
      "Y                  Y-coma (microns)       0.0000\n",
      "Y           X-astigmatism (microns)       0.0000\n",
      "Y           Y-astigmatism (microns)       0.0000\n",
      "N               Spherical (microns)      -0.0139\n",
      "N                X-clover (microns)      -0.0040\n",
      "N                Y-clover (microns)       0.0100\n",
      "I X-spherical astigmatism (microns)       0.0000\n",
      "I Y-spherical astigmatism (microns)       0.0000\n",
      "N               X-ashtray (microns)      -0.0050\n",
      "N               Y-Ashtray (microns)       0.0030\n",
      "I   Fifth order spherical (microns)       0.0050\n",
      "Y            Star  1 Background*1e4       0.0000\n",
      "Y          Star  1 X-tilt (microns)       0.0000\n",
      "Y          Star  1 Y-tilt (microns)       0.0000\n",
      "N             Spider rotation (deg)       0.0000\n",
      "Y                              Blur       0.3710\n"
     ]
    }
   ],
   "source": [
    "params = parameters.InputParams('acswfc1')\n",
    "print(params.as_string)"
   ]
  },
  {
   "cell_type": "markdown",
   "metadata": {},
   "source": [
    "### Modify the input parameters"
   ]
  },
  {
   "cell_type": "code",
   "execution_count": 5,
   "metadata": {},
   "outputs": [
    {
     "name": "stdout",
     "output_type": "stream",
     "text": [
      "Y                X-clover (microns)       0.1000\n"
     ]
    }
   ],
   "source": [
    "params.xclover.value = 0.1 # Change the starting estimate\n",
    "params.xclover.fit = 'Y' # Set to fit rather than fix\n",
    "\n",
    "# Inspect the x-clover line individually\n",
    "print(params.xclover.as_string)"
   ]
  },
  {
   "cell_type": "code",
   "execution_count": 6,
   "metadata": {},
   "outputs": [
    {
     "name": "stdout",
     "output_type": "stream",
     "text": [
      "      Array dimensions      512\n",
      "            Wavelength   0.5020\n",
      "        Fitting method        1\n",
      "  Merit function power  2.00000\n",
      "    Merit wing damping  0.00500\n",
      "           Camera mode    ACSWFC1\n",
      "          Zernike type OBSCURED\n",
      "Y                   Focus (microns)       0.0000\n",
      "Y                  X-coma (microns)       0.0000\n",
      "Y                  Y-coma (microns)       0.0000\n",
      "Y           X-astigmatism (microns)       0.0000\n",
      "Y           Y-astigmatism (microns)       0.0000\n",
      "N               Spherical (microns)      -0.0139\n",
      "Y                X-clover (microns)       0.1000\n",
      "N                Y-clover (microns)       0.0100\n",
      "I X-spherical astigmatism (microns)       0.0000\n",
      "I Y-spherical astigmatism (microns)       0.0000\n",
      "N               X-ashtray (microns)      -0.0050\n",
      "N               Y-Ashtray (microns)       0.0030\n",
      "I   Fifth order spherical (microns)       0.0050\n",
      "Y            Star  1 Background*1e4       0.0000\n",
      "Y          Star  1 X-tilt (microns)       0.0000\n",
      "Y          Star  1 Y-tilt (microns)       0.0000\n",
      "N             Spider rotation (deg)       0.0000\n",
      "Y                              Blur       0.3710\n"
     ]
    }
   ],
   "source": [
    "# Inspect the entire set of parameters with the change\n",
    "print(params.as_string)"
   ]
  },
  {
   "cell_type": "markdown",
   "metadata": {},
   "source": [
    "### Create a multi-image fit input file and save to disk"
   ]
  },
  {
   "cell_type": "code",
   "execution_count": 7,
   "metadata": {},
   "outputs": [
    {
     "name": "stdout",
     "output_type": "stream",
     "text": [
      "      Array dimensions      512\n",
      "            Wavelength   0.5020\n",
      "        Fitting method        1\n",
      "  Merit function power  2.00000\n",
      "    Merit wing damping  0.00500\n",
      "           Camera mode    WFC3UVIS2\n",
      "          Zernike type OBSCURED\n",
      "Y    1st file from parax focus (um)       5.0000\n",
      "Y File  2 dFocus from 1st file (um)      -1.0000\n",
      "Y File  3 dFocus from 1st file (um)       0.0000\n",
      "Y                  X-coma (microns)       0.0000\n",
      "Y                  Y-coma (microns)       0.0000\n",
      "Y           X-astigmatism (microns)       0.0000\n",
      "Y           Y-astigmatism (microns)       0.0000\n",
      "Y               Spherical (microns)      -0.0110\n",
      "N                X-clover (microns)       0.0035\n",
      "N                Y-clover (microns)      -0.0065\n",
      "I X-spherical astigmatism (microns)       0.0000\n",
      "I Y-spherical astigmatism (microns)       0.0000\n",
      "N               X-ashtray (microns)       0.0045\n",
      "N               Y-Ashtray (microns)      -0.0065\n",
      "I   Fifth order spherical (microns)       0.0000\n",
      "Y            Star  1 Background*1e4       0.0000\n",
      "Y            Star  2 Background*1e4       0.0000\n",
      "Y            Star  3 Background*1e4       0.0000\n",
      "Y          Star  1 X-tilt (microns)       0.0000\n",
      "Y          Star  1 Y-tilt (microns)       0.0000\n",
      "Y          Star  2 X-tilt (microns)       0.0000\n",
      "Y          Star  2 Y-tilt (microns)       0.0000\n",
      "Y          Star  3 X-tilt (microns)       0.0000\n",
      "Y          Star  3 Y-tilt (microns)       0.0000\n",
      "Y                              Blur       0.4500\n"
     ]
    }
   ],
   "source": [
    "multiparams = parameters.InputParams('wfc3uvis2', nfiles = 3)\n",
    "\n",
    "# Modify the focus guesses\n",
    "multiparams.focus1.value = 5.\n",
    "multiparams.focus2.value = -1. # Relative to focus1\n",
    "\n",
    "# Modify the wavelength\n",
    "multiparams.wavelength.value = 0.502\n",
    "\n",
    "print(multiparams.as_string)"
   ]
  },
  {
   "cell_type": "code",
   "execution_count": 8,
   "metadata": {
    "collapsed": true
   },
   "outputs": [],
   "source": [
    "# Save to disk\n",
    "multiparams.to_file('mygreatinputs.in')"
   ]
  }
 ],
 "metadata": {
  "kernelspec": {
   "display_name": "astroconda3",
   "language": "python",
   "name": "astroconda3"
  },
  "language_info": {
   "codemirror_mode": {
    "name": "ipython",
    "version": 3
   },
   "file_extension": ".py",
   "mimetype": "text/x-python",
   "name": "python",
   "nbconvert_exporter": "python",
   "pygments_lexer": "ipython3",
   "version": "3.5.3"
  }
 },
 "nbformat": 4,
 "nbformat_minor": 2
}
